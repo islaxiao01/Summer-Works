{
  "cells": [
    {
      "cell_type": "markdown",
      "metadata": {
        "execution": {},
        "id": "fu4kqz1cyPIQ"
      },
      "source": [
        "# Load HCP parcellated task data \n",
        "## (version with Behavioural Data)\n",
        "\n",
        "The HCP dataset comprises task-based fMRI from a large sample of human subjects. The NMA-curated dataset includes time series data that has been preprocessed and spatially-downsampled by aggregating within 360 regions of interest.\n",
        "\n",
        "In order to use this dataset, please electronically sign the HCP data use terms at [ConnectomeDB](https://db.humanconnectome.org). Instructions for this are on pp. 24-25 of the [HCP Reference Manual](https://www.humanconnectome.org/storage/app/media/documentation/s1200/HCP_S1200_Release_Reference_Manual.pdf).\n",
        "\n",
        "In this notebook, NMA provides code for downloading the data and doing some basic visualisation and processing."
      ]
    },
    {
      "cell_type": "code",
      "execution_count": null,
      "metadata": {
        "cellView": "form",
        "execution": {},
        "id": "KDV9i8QDyPIV"
      },
      "outputs": [],
      "source": [
        "# @title Install dependencies\n",
        "!pip install nilearn --quiet"
      ]
    },
    {
      "cell_type": "code",
      "execution_count": null,
      "metadata": {
        "execution": {},
        "id": "asGdv60nyPIX"
      },
      "outputs": [],
      "source": [
        "import os\n",
        "import numpy as np\n",
        "import pandas as pd\n",
        "import seaborn as sns\n",
        "import matplotlib.pyplot as plt\n",
        "import nilearn"
      ]
    },
    {
      "cell_type": "code",
      "execution_count": null,
      "metadata": {
        "cellView": "form",
        "execution": {},
        "id": "mOlhPSG7yPIX"
      },
      "outputs": [],
      "source": [
        "#@title Figure settings\n",
        "%matplotlib inline\n",
        "%config InlineBackend.figure_format = 'retina'\n",
        "plt.style.use(\"https://raw.githubusercontent.com/NeuromatchAcademy/course-content/main/nma.mplstyle\")"
      ]
    },
    {
      "cell_type": "code",
      "execution_count": null,
      "metadata": {
        "execution": {},
        "id": "AJwEzFduyPIY"
      },
      "outputs": [],
      "source": [
        "# The data shared for NMA projects is a subset of the full HCP dataset\n",
        "N_SUBJECTS = 100\n",
        "\n",
        "# The data have already been aggregated into ROIs from the Glasser parcellation\n",
        "N_PARCELS = 360\n",
        "\n",
        "# The acquisition parameters for all tasks were identical\n",
        "TR = 0.72  # Time resolution, in seconds\n",
        "\n",
        "# The parcels are matched across hemispheres with the same order\n",
        "HEMIS = [\"Right\", \"Left\"]\n",
        "\n",
        "# Each experiment was repeated twice in each subject\n",
        "RUNS   = ['LR','RL']\n",
        "N_RUNS = 2\n",
        "\n",
        "# There are 7 tasks. Each has a number of 'conditions'\n",
        "# TIP: look inside the data folders for more fine-graned conditions\n",
        "\n",
        "EXPERIMENTS = {\n",
        "    'MOTOR'      : {'cond':['lf','rf','lh','rh','t','cue']},\n",
        "    'WM'         : {'cond':['0bk_body','0bk_faces','0bk_places','0bk_tools','2bk_body','2bk_faces','2bk_places','2bk_tools']},\n",
        "    'EMOTION'    : {'cond':['fear','neut']},\n",
        "    'GAMBLING'   : {'cond':['loss','win']},\n",
        "    'LANGUAGE'   : {'cond':['math','story']},\n",
        "    'RELATIONAL' : {'cond':['match','relation']},\n",
        "    'SOCIAL'     : {'cond':['ment','rnd']}\n",
        "}"
      ]
    },
    {
      "cell_type": "markdown",
      "metadata": {
        "execution": {},
        "id": "JPW46JWhyPIZ"
      },
      "source": [
        "> For a detailed description of the tasks have a look pages 45-54 of the [HCP reference manual](https://www.humanconnectome.org/storage/app/media/documentation/s1200/HCP_S1200_Release_Reference_Manual.pdf)."
      ]
    },
    {
      "cell_type": "markdown",
      "metadata": {
        "execution": {},
        "id": "h8e78_QCyPIa"
      },
      "source": [
        "# Downloading data\n",
        "\n",
        "The task data are shared in different files, but they will unpack into the same directory structure.\n"
      ]
    },
    {
      "cell_type": "code",
      "execution_count": null,
      "metadata": {
        "execution": {},
        "id": "E4ZlyTQ8yPIb"
      },
      "outputs": [],
      "source": [
        "# @title Download data file\n",
        "import os, requests\n",
        "\n",
        "fname = \"hcp_task.tgz\"\n",
        "url = \"https://osf.io/2y3fw/download\"\n",
        "\n",
        "if not os.path.isfile(fname):\n",
        "  try:\n",
        "    r = requests.get(url)\n",
        "  except requests.ConnectionError:\n",
        "    print(\"!!! Failed to download data !!!\")\n",
        "  else:\n",
        "    if r.status_code != requests.codes.ok:\n",
        "      print(\"!!! Failed to download data !!!\")\n",
        "    else:\n",
        "      with open(fname, \"wb\") as fid:\n",
        "        fid.write(r.content)"
      ]
    },
    {
      "cell_type": "code",
      "execution_count": null,
      "metadata": {
        "execution": {},
        "id": "MVGnrt7tyPIc"
      },
      "outputs": [],
      "source": [
        "# The download cells will store the data in nested directories starting here:\n",
        "HCP_DIR = \"./hcp_task\"\n",
        "\n",
        "# importing the \"tarfile\" module\n",
        "import tarfile\n",
        "\n",
        "# open file\n",
        "with tarfile.open(fname) as tfile:\n",
        "  # extracting file\n",
        "  tfile.extractall('.')\n",
        "\n",
        "subjects = np.loadtxt(os.path.join(HCP_DIR, 'subjects_list.txt'), dtype='str')"
      ]
    },
    {
      "cell_type": "markdown",
      "metadata": {
        "execution": {},
        "id": "Rkvn-ZzsyPIc"
      },
      "source": [
        "## Understanding the folder organisation\n",
        "\n",
        "The data folder has the following organisation:\n",
        "\n",
        "- hcp\n",
        "  - regions.npy (information on the brain parcellation)\n",
        "  - subjects_list.txt (list of subject IDs)\n",
        "  - subjects (main data folder)\n",
        "    - [subjectID] (subject-specific subfolder)\n",
        "      - EXPERIMENT (one folder per experiment)\n",
        "        - RUN (one folder per run)\n",
        "          - data.npy (the parcellated time series data)\n",
        "          - EVs (EVs folder)\n",
        "            - [ev1.txt] (one file per condition)\n",
        "            - [ev2.txt]\n",
        "            - Stats.txt (behavioural data [where available] - averaged per run)\n",
        "            - Sync.txt (ignore this file)\n",
        "\n"
      ]
    },
    {
      "cell_type": "markdown",
      "metadata": {
        "execution": {},
        "id": "UbquDAsdyPId"
      },
      "source": [
        "## Loading region information\n",
        "\n",
        "Downloading this dataset will create the `regions.npy` file, which contains the region name and network assignment for each parcel.\n",
        "\n",
        "Detailed information about the name used for each region is provided [in the Supplement](https://static-content.springer.com/esm/art%3A10.1038%2Fnature18933/MediaObjects/41586_2016_BFnature18933_MOESM330_ESM.pdf) to [Glasser et al. 2016](https://www.nature.com/articles/nature18933).\n",
        "\n",
        "Information about the network parcellation is provided in [Ji et al, 2019](https://www.ncbi.nlm.nih.gov/pmc/articles/PMC6289683/).\n",
        "\n"
      ]
    },
    {
      "cell_type": "code",
      "execution_count": null,
      "metadata": {
        "execution": {},
        "id": "rXdzf-cjyPIe"
      },
      "outputs": [],
      "source": [
        "regions = np.load(f\"{HCP_DIR}/regions.npy\").T\n",
        "region_info = dict(\n",
        "    name=regions[0].tolist(),\n",
        "    network=regions[1],\n",
        "    hemi=['Right']*int(N_PARCELS/2) + ['Left']*int(N_PARCELS/2),\n",
        ")"
      ]
    },
    {
      "cell_type": "markdown",
      "metadata": {
        "execution": {},
        "id": "WmRSLa0LyPIe"
      },
      "source": [
        "# Help functions\n",
        "\n",
        "We provide two helper functions: one for loading the time series from a single suject and a single run, and one for loading an EV file for each task. \n",
        "\n",
        "An EV file (EV:Explanatory Variable) describes the task experiment in terms of stimulus onset, duration, and amplitude. These can be used to model the task time series data."
      ]
    },
    {
      "cell_type": "code",
      "execution_count": null,
      "metadata": {
        "execution": {},
        "id": "TpELdM23yPIf"
      },
      "outputs": [],
      "source": [
        "def load_single_timeseries(subject, experiment, run, remove_mean=True):\n",
        "  \"\"\"Load timeseries data for a single subject and single run.\n",
        "\n",
        "  Args:\n",
        "    subject (str):      subject ID to load\n",
        "    experiment (str):   Name of experiment\n",
        "    run (int):          (0 or 1)\n",
        "    remove_mean (bool): If True, subtract the parcel-wise mean (typically the mean BOLD signal is not of interest)\n",
        "\n",
        "  Returns\n",
        "    ts (n_parcel x n_timepoint array): Array of BOLD data values\n",
        "\n",
        "  \"\"\"\n",
        "  bold_run  = RUNS[run]\n",
        "  bold_path = f\"{HCP_DIR}/subjects/{subject}/{experiment}/tfMRI_{experiment}_{bold_run}\"\n",
        "  bold_file = \"data.npy\"\n",
        "  ts = np.load(f\"{bold_path}/{bold_file}\")\n",
        "  if remove_mean:\n",
        "    ts -= ts.mean(axis=1, keepdims=True)\n",
        "  return ts\n",
        "\n",
        "\n",
        "def load_evs(subject, experiment, run):\n",
        "  \"\"\"Load EVs (explanatory variables) data for one task experiment.\n",
        "\n",
        "  Args:\n",
        "    subject (str): subject ID to load\n",
        "    experiment (str) : Name of experiment\n",
        "    run (int): 0 or 1\n",
        "\n",
        "  Returns\n",
        "    evs (list of lists): A list of frames associated with each condition\n",
        "\n",
        "  \"\"\"\n",
        "  frames_list = []\n",
        "  task_key = f'tfMRI_{experiment}_{RUNS[run]}'\n",
        "  for cond in EXPERIMENTS[experiment]['cond']:\n",
        "    ev_file  = f\"{HCP_DIR}/subjects/{subject}/{experiment}/{task_key}/EVs/{cond}.txt\"\n",
        "    ev_array = np.loadtxt(ev_file, ndmin=2, unpack=True)\n",
        "    ev       = dict(zip([\"onset\", \"duration\", \"amplitude\"], ev_array))\n",
        "    # Determine when trial starts, rounded down\n",
        "    start = np.floor(ev[\"onset\"] / TR).astype(int)\n",
        "    # Use trial duration to determine how many frames to include for trial\n",
        "    duration = np.ceil(ev[\"duration\"] / TR).astype(int)\n",
        "    # Take the range of frames that correspond to this specific trial\n",
        "    frames = [s + np.arange(0, d) for s, d in zip(start, duration)]\n",
        "    frames[-1] = [i for i in frames[-1] if i < data.shape[1]]\n",
        "    frames_list.append(frames)\n",
        "\n",
        "  return frames_list"
      ]
    },
    {
      "cell_type": "markdown",
      "metadata": {
        "execution": {},
        "id": "dvQS9IySyPIf"
      },
      "source": [
        "# Example run\n",
        "\n",
        "Let's load the timeseries data for the MOTOR experiment from a single subject and a single run"
      ]
    },
    {
      "cell_type": "code",
      "execution_count": null,
      "metadata": {
        "execution": {},
        "id": "5wlaIJgsyPIg",
        "outputId": "ea872275-780b-44b1-e620-0b7127109b6b",
        "colab": {
          "base_uri": "https://localhost:8080/"
        }
      },
      "outputs": [
        {
          "output_type": "stream",
          "name": "stdout",
          "text": [
            "(360, 316)\n"
          ]
        }
      ],
      "source": [
        "my_exp = 'LANGUAGE'\n",
        "my_subj = subjects[1]\n",
        "my_run = 1\n",
        "\n",
        "data = load_single_timeseries(subject=my_subj,\n",
        "                              experiment=my_exp,\n",
        "                              run=my_run,\n",
        "                              remove_mean=True)\n",
        "print(data.shape)\n",
        "\n"
      ]
    },
    {
      "cell_type": "markdown",
      "metadata": {
        "execution": {},
        "id": "XPDxj90RyPIh"
      },
      "source": [
        "As you can see the time series data contains 284 time points in 360 regions of interest (ROIs).\n",
        "\n"
      ]
    },
    {
      "cell_type": "markdown",
      "metadata": {
        "execution": {},
        "id": "n0f2Kp4dyPIh"
      },
      "source": [
        "Now in order to understand how to model these data, we need to relate the time series to the experimental manipulation. This is described by the EV files. Let us load the EVs for this experiment."
      ]
    },
    {
      "cell_type": "code",
      "execution_count": null,
      "metadata": {
        "execution": {},
        "id": "G5pNMHGZyPIi"
      },
      "outputs": [],
      "source": [
        "evs = load_evs(subject=my_subj, experiment=my_exp, run=my_run)"
      ]
    },
    {
      "cell_type": "code",
      "source": [
        "evs[0]"
      ],
      "metadata": {
        "colab": {
          "base_uri": "https://localhost:8080/"
        },
        "id": "pAbL02wHxOuB",
        "outputId": "7ebf3003-b199-4324-97d1-596299edbd52"
      },
      "execution_count": null,
      "outputs": [
        {
          "output_type": "execute_result",
          "data": {
            "text/plain": [
              "[array([38, 39, 40, 41, 42, 43, 44, 45, 46, 47, 48, 49, 50, 51, 52, 53, 54,\n",
              "        55, 56]),\n",
              " array([56, 57, 58, 59, 60, 61, 62, 63, 64, 65, 66, 67, 68, 69, 70, 71, 72,\n",
              "        73]),\n",
              " array([74, 75, 76, 77, 78, 79, 80, 81, 82, 83, 84, 85, 86, 87, 88, 89, 90]),\n",
              " array([193, 194, 195, 196, 197, 198, 199, 200, 201, 202, 203, 204, 205,\n",
              "        206, 207, 208, 209, 210]),\n",
              " array([211, 212, 213, 214, 215, 216, 217, 218, 219, 220, 221, 222, 223,\n",
              "        224, 225, 226]),\n",
              " array([227, 228, 229, 230, 231, 232, 233, 234, 235, 236, 237, 238, 239,\n",
              "        240, 241, 242, 243]),\n",
              " array([246, 247, 248, 249, 250, 251, 252, 253, 254, 255, 256, 257, 258,\n",
              "        259, 260, 261, 262, 263]),\n",
              " array([264, 265, 266, 267, 268, 269, 270, 271, 272, 273, 274, 275, 276,\n",
              "        277, 278, 279, 280]),\n",
              " array([281, 282, 283, 284, 285, 286, 287, 288, 289, 290, 291, 292, 293,\n",
              "        294, 295, 296, 297, 298]),\n",
              " [299,\n",
              "  300,\n",
              "  301,\n",
              "  302,\n",
              "  303,\n",
              "  304,\n",
              "  305,\n",
              "  306,\n",
              "  307,\n",
              "  308,\n",
              "  309,\n",
              "  310,\n",
              "  311,\n",
              "  312,\n",
              "  313,\n",
              "  314,\n",
              "  315]]"
            ]
          },
          "metadata": {},
          "execution_count": 21
        }
      ]
    },
    {
      "cell_type": "markdown",
      "metadata": {
        "execution": {},
        "id": "1bWegAoNyPIi"
      },
      "source": [
        "For the motor task, this evs variable contains a list of 5 arrays corresponding to the 5 conditions. \n",
        "\n",
        "Now let's use these evs to compare the average activity during the left foot ('lf') and right foot ('rf') conditions:"
      ]
    },
    {
      "cell_type": "code",
      "execution_count": null,
      "metadata": {
        "execution": {},
        "id": "BpWxgXXNyPIi"
      },
      "outputs": [],
      "source": [
        "# we need a little function that averages all frames from any given condition\n",
        "def average_frames(data, evs, experiment, cond):\n",
        "  idx = EXPERIMENTS[experiment]['cond'].index(cond)\n",
        "  return np.mean(np.concatenate([np.mean(data[:, evs[idx][i]], axis=1, keepdims=True) for i in range(len(evs[idx]))], axis=-1), axis=1)\n",
        "\n",
        "\n",
        "story_activity = average_frames(data, evs, my_exp, 'story')\n",
        "math_activity = average_frames(data, evs, my_exp, 'math')\n",
        "contrast = story_activity - math_activity  # difference between left and right hand movement"
      ]
    },
    {
      "cell_type": "code",
      "source": [
        "def block_glm_binaries(data, evs, experiment, cond):\n",
        "  \n",
        "  # Find indices/time points of conditions (e.g., math or story)\n",
        "  idx = EXPERIMENTS[experiment]['cond'].index(cond) # get the index of the condition\n",
        "  blocks = [evs[idx][i] for i in range(len(evs[idx]))] # concatenate index for condition\n",
        "  \n",
        "  # Create binarized vector of conditions\n",
        "  bins = np.zeros((len(evs[idx]), data.shape[1]))\n",
        "  for b in range(0, len(blocks)):\n",
        "     bin = np.zeros(data.shape[1]) # instantiate binary vector\n",
        "     bin[blocks[b]] = 1 # make identified indices one \n",
        "     bins[b] = bin\n",
        "  return bins"
      ],
      "metadata": {
        "id": "T1JnKVSuDgqm"
      },
      "execution_count": null,
      "outputs": []
    },
    {
      "cell_type": "code",
      "source": [
        "def block_tdm_binary(data, evs, experiment, cond):\n",
        "  \n",
        "  # Find indices/time points of conditions (e.g., math or story)\n",
        "  idx = EXPERIMENTS[experiment]['cond'].index(cond) # get the index of the condition\n",
        "  block = np.concatenate([evs[idx][i] for i in range(len(evs[idx]))], axis=-1) # concatenate index for condition\n",
        "  \n",
        "  # Create binarized vector of conditions\n",
        "  bin = np.zeros(data.shape[1]) # instantiate binary vector\n",
        "  bin[block] = 1 # make identified indices one \n",
        "  return bin"
      ],
      "metadata": {
        "id": "hnngjkHE0KVE"
      },
      "execution_count": null,
      "outputs": []
    },
    {
      "cell_type": "code",
      "source": [
        "# Plot story and math blocks\n",
        "plt.figure()\n",
        "plt.plot(block_tdm_binary(data, evs, my_exp, 'story'), label='story')\n",
        "plt.plot(block_tdm_binary(data, evs, my_exp, 'math'), label='math')\n",
        "plt.legend()\n",
        "plt.show()"
      ],
      "metadata": {
        "id": "CaZMhFKnHqt3",
        "colab": {
          "base_uri": "https://localhost:8080/",
          "height": 430
        },
        "outputId": "cc532aee-ad23-491a-e88e-3fb250e03f93"
      },
      "execution_count": null,
      "outputs": [
        {
          "output_type": "display_data",
          "data": {
            "text/plain": [
              "<Figure size 576x432 with 1 Axes>"
            ],
            "image/png": "[encoded data removed]"
          },
          "metadata": {
            "image/png": {
              "width": 558,
              "height": 413
            },
            "needs_background": "light"
          }
        }
      ]
    },
    {
      "cell_type": "code",
      "source": [
        "story_bin = block_tdm_binary(data, evs, my_exp, 'story')\n",
        "math_bin = block_tdm_binary(data, evs, my_exp, 'math')"
      ],
      "metadata": {
        "id": "ZUtWYEjfHfVu"
      },
      "execution_count": null,
      "outputs": []
    },
    {
      "cell_type": "code",
      "source": [
        "def get_HRF(duration, TR, peak):\n",
        "  \"\"\"\n",
        "  Really dumb Haemodynamic response function (not physiologically plausible)\n",
        "  It simply goes up and down linearly from 0 to peak and back down\n",
        "\n",
        "  Args:\n",
        "    duration (float) : in seconds\n",
        "    TR (float)       : in seconds\n",
        "    peak (float)     : in seconds\n",
        "\n",
        "  Returns:\n",
        "    1D array\n",
        "  \"\"\"\n",
        "  n = int(np.ceil(duration / TR))\n",
        "  x = np.linspace(0, duration, n)\n",
        "  h = np.zeros(n)\n",
        "  h[x < peak]  = x[x < peak] / peak\n",
        "  h[x >= peak] = (x[x >= peak] - duration) / (peak - duration)\n",
        "  h = h / np.sum(h)\n",
        "  return h"
      ],
      "metadata": {
        "id": "8S-oVeXREjIh"
      },
      "execution_count": null,
      "outputs": []
    },
    {
      "cell_type": "code",
      "source": [
        "plt.plot( nilearn.glm.first_level.spm_hrf(TR, oversampling=50, time_length=10.0, onset=0.0))"
      ],
      "metadata": {
        "id": "b-ddzfAJ-hzA",
        "colab": {
          "base_uri": "https://localhost:8080/",
          "height": 171
        },
        "outputId": "25ac6f74-01c0-42c7-e58e-e9f68ab902a8"
      },
      "execution_count": null,
      "outputs": [
        {
          "output_type": "error",
          "ename": "AttributeError",
          "evalue": "ignored",
          "traceback": [
            "\u001b[0;31m---------------------------------------------------------------------------\u001b[0m",
            "\u001b[0;31mAttributeError\u001b[0m                            Traceback (most recent call last)",
            "\u001b[0;32m<ipython-input-16-73e061a2d12e>\u001b[0m in \u001b[0;36m<module>\u001b[0;34m()\u001b[0m\n\u001b[0;32m----> 1\u001b[0;31m \u001b[0mplt\u001b[0m\u001b[0;34m.\u001b[0m\u001b[0mplot\u001b[0m\u001b[0;34m(\u001b[0m \u001b[0mnilearn\u001b[0m\u001b[0;34m.\u001b[0m\u001b[0mglm\u001b[0m\u001b[0;34m.\u001b[0m\u001b[0mfirst_level\u001b[0m\u001b[0;34m.\u001b[0m\u001b[0mspm_hrf\u001b[0m\u001b[0;34m(\u001b[0m\u001b[0mTR\u001b[0m\u001b[0;34m,\u001b[0m \u001b[0moversampling\u001b[0m\u001b[0;34m=\u001b[0m\u001b[0;36m50\u001b[0m\u001b[0;34m,\u001b[0m \u001b[0mtime_length\u001b[0m\u001b[0;34m=\u001b[0m\u001b[0;36m10.0\u001b[0m\u001b[0;34m,\u001b[0m \u001b[0monset\u001b[0m\u001b[0;34m=\u001b[0m\u001b[0;36m0.0\u001b[0m\u001b[0;34m)\u001b[0m\u001b[0;34m)\u001b[0m\u001b[0;34m\u001b[0m\u001b[0;34m\u001b[0m\u001b[0m\n\u001b[0m",
            "\u001b[0;31mAttributeError\u001b[0m: module 'nilearn' has no attribute 'glm'"
          ]
        }
      ]
    },
    {
      "cell_type": "code",
      "source": [
        "HRF = get_HRF(duration=10, TR=1, peak=3) #nilearn.glm.first_level.spm_hrf(TR, oversampling=50, time_length=32.0, onset=0.0)\n",
        "\n",
        "ev1 = np.convolve(story_bin, HRF, 'full')[:data.shape[1]]\n",
        "ev2 = np.convolve(math_bin, HRF, 'full')[:data.shape[1]]\n",
        "\n",
        "# plot the new EVs:\n",
        "plt.figure()\n",
        "plt.plot(math_bin)\n",
        "plt.plot(ev1)\n",
        "plt.show()\n",
        "\n",
        "plt.figure()\n",
        "plt.plot(story_bin)\n",
        "plt.plot(ev2)\n",
        "plt.show()"
      ],
      "metadata": {
        "id": "Yv_7rGAFN8LU"
      },
      "execution_count": null,
      "outputs": []
    },
    {
      "cell_type": "code",
      "source": [
        "# append a constant regressor\n",
        "design_matrix = np.asarray([story_bin, math_bin, np.ones_like(ev1)]).T\n",
        "print(design_matrix.shape)"
      ],
      "metadata": {
        "id": "6JpY2lxSO674"
      },
      "execution_count": null,
      "outputs": []
    },
    {
      "cell_type": "code",
      "source": [
        "def glm(Y, X, C=None, mask=None):\n",
        "  \"\"\"\n",
        "  Run a general linear model\n",
        "\n",
        "  Args:\n",
        "    Y (2d array) : time-by-space data matrix\n",
        "    X (2d array) : time-by-regressors design matrix\n",
        "    C (2d array) : contrasts-by-regressor contrrast matrix [default=Identity]\n",
        "    mask (1d array) : spatial mask wherre GLM is run\n",
        "\n",
        "  Returns:\n",
        "    contrast maps\n",
        "    t-stats\n",
        "  \"\"\"\n",
        "  if C is None:\n",
        "    C = np.identity(X.shape[1])\n",
        "  if mask is None:\n",
        "    mask = np.ones(Y.shape[1])\n",
        "\n",
        "  # initialise matrices\n",
        "  beta = np.zeros((X.shape[1], Y.shape[1]))\n",
        "  cope = np.zeros((C.shape[0], Y.shape[1]))\n",
        "  varbeta = np.zeros_like(beta)\n",
        "  tstat = np.zeros_like(beta)\n",
        "\n",
        "  # solve glm\n",
        "  beta[:, mask > 0] = np.linalg.pinv(X) @ Y[:, mask > 0]\n",
        "  # apply contrasts\n",
        "  cope[:, mask > 0] = np.dot(C, beta[:, mask > 0])\n",
        "\n",
        "  # calculate uncertainty (varcope)\n",
        "  r = Y - X@beta\n",
        "  dof = X.shape[0] - np.linalg.matrix_rank(X)\n",
        "  sig2 = np.sum(r**2, axis=0) / dof\n",
        "  varcope = np.outer(C @ np.diag(np.linalg.inv(X.T @ X)) @ C.T, sig2)\n",
        "  # calculate t-stats\n",
        "  tstat[:, mask] = cope[:, mask] / np.sqrt(varcope[:, mask])\n",
        "\n",
        "  return cope, tstat"
      ],
      "metadata": {
        "id": "LX6DavtJT2AW"
      },
      "execution_count": null,
      "outputs": []
    },
    {
      "cell_type": "code",
      "source": [
        "Y = data.T\n",
        "\n",
        "# create a mask where data is non-zero\n",
        "mask = np.sum(Y**2, axis=0)>0\n",
        "\n",
        "# run GLM\n",
        "beta, t = glm(Y=Y, X=design_matrix, mask=mask)\n"
      ],
      "metadata": {
        "id": "kAfaTV30Rsg_"
      },
      "execution_count": null,
      "outputs": []
    },
    {
      "cell_type": "code",
      "execution_count": null,
      "metadata": {
        "execution": {},
        "id": "mf1W3noGyPIk"
      },
      "outputs": [],
      "source": [
        "group_contrast = 0\n",
        "for s in subjects:\n",
        "  for r in [0, 1]:\n",
        "    data = load_single_timeseries(subject=s, experiment=my_exp,\n",
        "                                  run=r, remove_mean=True)\n",
        "    evs = load_evs(subject=s, experiment=my_exp,run=r)\n",
        "\n",
        "    story_activity = average_frames(data, evs, my_exp, 'story')\n",
        "    math_activity = average_frames(data, evs, my_exp, 'math')\n",
        "\n",
        "    contrast = story_activity - math_activity\n",
        "    group_contrast += contrast\n",
        "\n",
        "group_contrast /= (len(subjects)*2)  # remember: 2 sessions per subject"
      ]
    },
    {
      "cell_type": "code",
      "execution_count": null,
      "metadata": {
        "cellView": "form",
        "execution": {},
        "id": "4CIysDvQyPIl"
      },
      "outputs": [],
      "source": [
        "# @title NMA provides an atlas. Run this cell to download it\n",
        "import os, requests\n",
        "\n",
        "# NMA provides an atlas\n",
        "fname = f\"{HCP_DIR}/atlas.npz\"\n",
        "url = \"https://osf.io/j5kuc/download\"\n",
        "\n",
        "if not os.path.isfile(fname):\n",
        "  try:\n",
        "    r = requests.get(url)\n",
        "  except requests.ConnectionError:\n",
        "    print(\"!!! Failed to download data !!!\")\n",
        "  else:\n",
        "    if r.status_code != requests.codes.ok:\n",
        "      print(\"!!! Failed to download data !!!\")\n",
        "    else:\n",
        "      with open(fname, \"wb\") as fid:\n",
        "        fid.write(r.content)\n",
        "\n",
        "with np.load(fname) as dobj:\n",
        "  atlas = dict(**dobj)"
      ]
    },
    {
      "cell_type": "markdown",
      "source": [
        "## Standard GLM"
      ],
      "metadata": {
        "id": "fLM5XoebsFTg"
      }
    },
    {
      "cell_type": "code",
      "source": [
        "block_glm_binaries(data, evs, 'LANGUAGE', 'math')"
      ],
      "metadata": {
        "colab": {
          "base_uri": "https://localhost:8080/"
        },
        "id": "TYZTFzEL1UTi",
        "outputId": "d095ef99-b12b-4db6-e67f-d5913d614ad5"
      },
      "execution_count": null,
      "outputs": [
        {
          "output_type": "execute_result",
          "data": {
            "text/plain": [
              "array([[0., 0., 0., ..., 0., 0., 0.],\n",
              "       [0., 0., 0., ..., 0., 0., 0.],\n",
              "       [0., 0., 0., ..., 0., 0., 0.],\n",
              "       ...,\n",
              "       [0., 0., 0., ..., 0., 0., 0.],\n",
              "       [0., 0., 0., ..., 0., 0., 0.],\n",
              "       [0., 0., 0., ..., 1., 1., 1.]])"
            ]
          },
          "metadata": {},
          "execution_count": 41
        }
      ]
    },
    {
      "cell_type": "code",
      "source": [
        "def gen_glm_design_matrix(data, evs, experiment, conds):\n",
        "  \n",
        "  design_matrix = np.ones((data.shape[1], len(evs[0]) + len(evs[1] + 1)))\n",
        "  idx = 1\n",
        "  for i in range(0,len(evs[0])+len(evs[1])):\n",
        "    if i < len(evs[0]):\n",
        "        design_matrix[:, idx] = block_binary(data, evs, experiment, 0) \n",
        "    else:\n",
        "        design_matrix[:, idx] = block_binary(data, evs, experiment, 1)\n",
        "    idx += 1\n",
        "  return design_matrix"
      ],
      "metadata": {
        "id": "WkyTCyx1sHdt"
      },
      "execution_count": null,
      "outputs": []
    },
    {
      "cell_type": "code",
      "source": [
        "my_exp = 'LANGUAGE'\n",
        "\n",
        "from sklearn.linear_model import Ridge\n",
        "from sklearn.linear_model import RidgeCV\n",
        "from sklearn.model_selection import RepeatedKFold\n",
        "\n",
        "cv = RepeatedKFold(n_splits=5, random_state=2022)\n",
        "\n",
        "for subj in subjects:\n",
        "    print(subj)\n",
        "\n",
        "    # Extract timeseries\n",
        "    bold_train, bold_test = load_single_timeseries(subj, my_exp, 0, remove_mean = False), load_single_timeseries(subj, my_exp, 1, remove_mean = False)  \n",
        "\n",
        "    # Extract events\n",
        "    evs_train, evs_test = load_evs(subj, my_exp, 0), load_evs(subj, my_exp, 1)\n",
        "\n",
        "    # Determine average block length for a participant\n",
        "    # ...\n",
        "\n",
        "    # Create design matrices\n",
        "    design_train = gen_design_matrix(bold_train, evs_train, my_exp, ['story', 'math'])\n",
        "\n",
        "    print(design_train.shape)\n",
        "\n",
        "    plt.figure()\n",
        "    plt.plot(design_train[:, 1], label='story')\n",
        "    plt.plot(design_train[:, 2], label='math')\n",
        "    plt.legend()\n",
        "    plt.show()\n",
        "\n",
        "    # Generate beta values\n",
        "    model = RidgeCV(alphas=np.arange(0, 1, 0.01), cv=cv, scoring='neg_mean_absolute_error')\n",
        "    model.fit(design_train, bold_train.T)\n",
        "    beta = model.coef_\n",
        "\n",
        "    # Calculate estimated design matrix\n",
        "    design_test = bold_test.T @ beta\n",
        "\n",
        "    # Create predictor\n",
        "    y_hat = block_binary(bold_test, evs_test, my_exp, 'story')\n"
      ],
      "metadata": {
        "id": "YB7SkNQfyD_U"
      },
      "execution_count": null,
      "outputs": []
    },
    {
      "cell_type": "markdown",
      "source": [
        "## Time decoding model"
      ],
      "metadata": {
        "id": "0W5lsZsSr4gb"
      }
    },
    {
      "cell_type": "code",
      "source": [
        "def gen_tdm_design_matrix(data, evs, experiment, conds):\n",
        "  design_matrix = np.ones((data.shape[1], len(conds)+1))\n",
        "  idx = 1\n",
        "  for cond in conds:\n",
        "    design_matrix[:, idx] = block_binary(data, evs, experiment, cond) \n",
        "    #np.convole(block_binary(data, evs, experiment, cond), HRF, 'full')[:data.shape[1]]    \n",
        "    #np.convolve(story_bin, HRF, 'full')[:data.shape[1]]\n",
        "    idx += 1\n",
        "  return design_matrix"
      ],
      "metadata": {
        "id": "VYo6DfMpGhFR"
      },
      "execution_count": null,
      "outputs": []
    },
    {
      "cell_type": "code",
      "source": [
        "my_exp = 'LANGUAGE'\n",
        "\n",
        "from sklearn.linear_model import Ridge\n",
        "from sklearn.linear_model import RidgeCV\n",
        "from sklearn.model_selection import RepeatedKFold\n",
        "\n",
        "cv = RepeatedKFold(n_splits=5, random_state=2022)\n",
        "\n",
        "for subj in subjects:\n",
        "    print(subj)\n",
        "\n",
        "    # Extract timeseries\n",
        "    bold_train, bold_test = load_single_timeseries(subj, my_exp, 0, remove_mean = False), load_single_timeseries(subj, my_exp, 1, remove_mean = False)  \n",
        "\n",
        "    # Extract events\n",
        "    evs_train, evs_test = load_evs(subj, my_exp, 0), load_evs(subj, my_exp, 1)\n",
        "\n",
        "    # Determine average block length for a participant\n",
        "    # ...\n",
        "\n",
        "    # Create design matrices\n",
        "    design_train = gen_design_matrix(bold_train, evs_train, my_exp, ['story', 'math'])\n",
        "\n",
        "    print(design_train.shape)\n",
        "\n",
        "    plt.figure()\n",
        "    plt.plot(design_train[:, 1], label='story')\n",
        "    plt.plot(design_train[:, 2], label='math')\n",
        "    plt.legend()\n",
        "    plt.show()\n",
        "\n",
        "    # Generate beta values\n",
        "    model = RidgeCV(alphas=np.arange(0, 1, 0.01), cv=cv, scoring='neg_mean_absolute_error')\n",
        "    model.fit(design_train, bold_train.T)\n",
        "    beta = model.coef_\n",
        "\n",
        "    # Calculate estimated design matrix\n",
        "    design_test = bold_test.T @ beta\n",
        "\n",
        "    # Create predictor\n",
        "    y_hat = block_binary(bold_test, evs_test, my_exp, 'story')\n"
      ],
      "metadata": {
        "id": "qMfKbGnN14Vy"
      },
      "execution_count": null,
      "outputs": []
    },
    {
      "cell_type": "code",
      "source": [
        "HRF = get_HRF(duration=10, TR=1, peak=3)"
      ],
      "metadata": {
        "id": "bJWRNLxT3T9h"
      },
      "execution_count": null,
      "outputs": []
    },
    {
      "cell_type": "markdown",
      "metadata": {
        "execution": {},
        "id": "7QyY__JHyPIl"
      },
      "source": [
        "# Visualising the results on a brain\n",
        "\n",
        "Finally, we will visualise these resuts on the cortical surface of an average brain."
      ]
    },
    {
      "cell_type": "code",
      "execution_count": null,
      "metadata": {
        "execution": {},
        "id": "4g2tJbv6yPIm"
      },
      "outputs": [],
      "source": [
        "# This uses the nilearn package\n",
        "from nilearn import plotting, datasets\n",
        "\n",
        "# Try both hemispheres (L->R and left->right)\n",
        "fsaverage = datasets.fetch_surf_fsaverage()\n",
        "surf_contrast = betas[atlas[\"labels_L\"]]\n",
        "plotting.view_surf(fsaverage['infl_left'],\n",
        "                   surf_contrast,\n",
        "                   vmax=100)"
      ]
    }
  ],
  "metadata": {
    "colab": {
      "collapsed_sections": [
        "h8e78_QCyPIa",
        "7QyY__JHyPIl"
      ],
      "name": "Lateralization in Time Decoding Master",
      "provenance": []
    },
    "kernel": {
      "display_name": "Python 3",
      "language": "python",
      "name": "python3"
    },
    "kernelspec": {
      "display_name": "Python 3",
      "name": "python3"
    },
    "language_info": {
      "name": "python"
    }
  },
  "nbformat": 4,
  "nbformat_minor": 0
}